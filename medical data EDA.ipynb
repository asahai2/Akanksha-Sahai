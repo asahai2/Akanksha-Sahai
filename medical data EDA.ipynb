{
 "cells": [
  {
   "cell_type": "code",
   "execution_count": 1,
   "metadata": {},
   "outputs": [],
   "source": [
    "import numpy as np\n",
    "import pandas as pd\n",
    "import matplotlib as plt"
   ]
  },
  {
   "cell_type": "code",
   "execution_count": 2,
   "metadata": {},
   "outputs": [
    {
     "name": "stderr",
     "output_type": "stream",
     "text": [
      "C:\\Users\\sahai\\Anaconda3\\lib\\site-packages\\IPython\\core\\interactiveshell.py:3049: DtypeWarning: Columns (10) have mixed types. Specify dtype option on import or set low_memory=False.\n",
      "  interactivity=interactivity, compiler=compiler, result=result)\n"
     ]
    }
   ],
   "source": [
    "data = pd.read_csv(\"Hospital_Inpatient_Discharges__SPARCS_De-Identified___2015.csv\")"
   ]
  },
  {
   "cell_type": "code",
   "execution_count": 3,
   "metadata": {},
   "outputs": [
    {
     "data": {
      "text/plain": [
       "(2346760, 37)"
      ]
     },
     "execution_count": 3,
     "metadata": {},
     "output_type": "execute_result"
    }
   ],
   "source": [
    "data.shape"
   ]
  },
  {
   "cell_type": "code",
   "execution_count": 4,
   "metadata": {},
   "outputs": [
    {
     "data": {
      "text/plain": [
       "Index(['Health Service Area', 'Hospital County',\n",
       "       'Operating Certificate Number', 'Facility Id', 'Facility Name',\n",
       "       'Age Group', 'Zip Code - 3 digits', 'Gender', 'Race', 'Ethnicity',\n",
       "       'Length of Stay', 'Type of Admission', 'Patient Disposition',\n",
       "       'Discharge Year', 'CCS Diagnosis Code', 'CCS Diagnosis Description',\n",
       "       'CCS Procedure Code', 'CCS Procedure Description', 'APR DRG Code',\n",
       "       'APR DRG Description', 'APR MDC Code', 'APR MDC Description',\n",
       "       'APR Severity of Illness Code', 'APR Severity of Illness Description',\n",
       "       'APR Risk of Mortality', 'APR Medical Surgical Description',\n",
       "       'Payment Typology 1', 'Payment Typology 2', 'Payment Typology 3',\n",
       "       'Attending Provider License Number',\n",
       "       'Operating Provider License Number', 'Other Provider License Number',\n",
       "       'Birth Weight', 'Abortion Edit Indicator',\n",
       "       'Emergency Department Indicator', 'Total Charges', 'Total Costs'],\n",
       "      dtype='object')"
      ]
     },
     "execution_count": 4,
     "metadata": {},
     "output_type": "execute_result"
    }
   ],
   "source": [
    "data.columns"
   ]
  },
  {
   "cell_type": "code",
   "execution_count": 5,
   "metadata": {},
   "outputs": [
    {
     "data": {
      "text/html": [
       "<div>\n",
       "<style scoped>\n",
       "    .dataframe tbody tr th:only-of-type {\n",
       "        vertical-align: middle;\n",
       "    }\n",
       "\n",
       "    .dataframe tbody tr th {\n",
       "        vertical-align: top;\n",
       "    }\n",
       "\n",
       "    .dataframe thead th {\n",
       "        text-align: right;\n",
       "    }\n",
       "</style>\n",
       "<table border=\"1\" class=\"dataframe\">\n",
       "  <thead>\n",
       "    <tr style=\"text-align: right;\">\n",
       "      <th></th>\n",
       "      <th>Health Service Area</th>\n",
       "      <th>Hospital County</th>\n",
       "      <th>Operating Certificate Number</th>\n",
       "      <th>Facility Id</th>\n",
       "      <th>Facility Name</th>\n",
       "      <th>Age Group</th>\n",
       "      <th>Zip Code - 3 digits</th>\n",
       "      <th>Gender</th>\n",
       "      <th>Race</th>\n",
       "      <th>Ethnicity</th>\n",
       "      <th>...</th>\n",
       "      <th>Payment Typology 2</th>\n",
       "      <th>Payment Typology 3</th>\n",
       "      <th>Attending Provider License Number</th>\n",
       "      <th>Operating Provider License Number</th>\n",
       "      <th>Other Provider License Number</th>\n",
       "      <th>Birth Weight</th>\n",
       "      <th>Abortion Edit Indicator</th>\n",
       "      <th>Emergency Department Indicator</th>\n",
       "      <th>Total Charges</th>\n",
       "      <th>Total Costs</th>\n",
       "    </tr>\n",
       "  </thead>\n",
       "  <tbody>\n",
       "    <tr>\n",
       "      <th>0</th>\n",
       "      <td>Western NY</td>\n",
       "      <td>Cattaraugus</td>\n",
       "      <td>401001.0</td>\n",
       "      <td>66.0</td>\n",
       "      <td>Olean General Hospital</td>\n",
       "      <td>50 to 69</td>\n",
       "      <td>147</td>\n",
       "      <td>F</td>\n",
       "      <td>White</td>\n",
       "      <td>Not Span/Hispanic</td>\n",
       "      <td>...</td>\n",
       "      <td>NaN</td>\n",
       "      <td>NaN</td>\n",
       "      <td>267162.0</td>\n",
       "      <td>NaN</td>\n",
       "      <td>NaN</td>\n",
       "      <td>0</td>\n",
       "      <td>N</td>\n",
       "      <td>Y</td>\n",
       "      <td>$5620.00</td>\n",
       "      <td>$4561.28</td>\n",
       "    </tr>\n",
       "    <tr>\n",
       "      <th>1</th>\n",
       "      <td>Western NY</td>\n",
       "      <td>Cattaraugus</td>\n",
       "      <td>401001.0</td>\n",
       "      <td>66.0</td>\n",
       "      <td>Olean General Hospital</td>\n",
       "      <td>18 to 29</td>\n",
       "      <td>147</td>\n",
       "      <td>F</td>\n",
       "      <td>White</td>\n",
       "      <td>Not Span/Hispanic</td>\n",
       "      <td>...</td>\n",
       "      <td>NaN</td>\n",
       "      <td>NaN</td>\n",
       "      <td>275408.0</td>\n",
       "      <td>NaN</td>\n",
       "      <td>NaN</td>\n",
       "      <td>0</td>\n",
       "      <td>N</td>\n",
       "      <td>Y</td>\n",
       "      <td>$7404.18</td>\n",
       "      <td>$6933.94</td>\n",
       "    </tr>\n",
       "    <tr>\n",
       "      <th>2</th>\n",
       "      <td>Western NY</td>\n",
       "      <td>Cattaraugus</td>\n",
       "      <td>401001.0</td>\n",
       "      <td>66.0</td>\n",
       "      <td>Olean General Hospital</td>\n",
       "      <td>30 to 49</td>\n",
       "      <td>147</td>\n",
       "      <td>M</td>\n",
       "      <td>White</td>\n",
       "      <td>Not Span/Hispanic</td>\n",
       "      <td>...</td>\n",
       "      <td>NaN</td>\n",
       "      <td>NaN</td>\n",
       "      <td>267162.0</td>\n",
       "      <td>NaN</td>\n",
       "      <td>NaN</td>\n",
       "      <td>0</td>\n",
       "      <td>N</td>\n",
       "      <td>Y</td>\n",
       "      <td>$7931.28</td>\n",
       "      <td>$7154.85</td>\n",
       "    </tr>\n",
       "    <tr>\n",
       "      <th>3</th>\n",
       "      <td>Western NY</td>\n",
       "      <td>Cattaraugus</td>\n",
       "      <td>401001.0</td>\n",
       "      <td>66.0</td>\n",
       "      <td>Olean General Hospital</td>\n",
       "      <td>50 to 69</td>\n",
       "      <td>147</td>\n",
       "      <td>F</td>\n",
       "      <td>White</td>\n",
       "      <td>Not Span/Hispanic</td>\n",
       "      <td>...</td>\n",
       "      <td>NaN</td>\n",
       "      <td>NaN</td>\n",
       "      <td>271326.0</td>\n",
       "      <td>NaN</td>\n",
       "      <td>NaN</td>\n",
       "      <td>0</td>\n",
       "      <td>N</td>\n",
       "      <td>Y</td>\n",
       "      <td>$11304.44</td>\n",
       "      <td>$4584.11</td>\n",
       "    </tr>\n",
       "    <tr>\n",
       "      <th>4</th>\n",
       "      <td>Western NY</td>\n",
       "      <td>Chautauqua</td>\n",
       "      <td>602001.0</td>\n",
       "      <td>103.0</td>\n",
       "      <td>Woman's Christian Association</td>\n",
       "      <td>50 to 69</td>\n",
       "      <td>147</td>\n",
       "      <td>M</td>\n",
       "      <td>White</td>\n",
       "      <td>Not Span/Hispanic</td>\n",
       "      <td>...</td>\n",
       "      <td>NaN</td>\n",
       "      <td>NaN</td>\n",
       "      <td>243034.0</td>\n",
       "      <td>NaN</td>\n",
       "      <td>NaN</td>\n",
       "      <td>0</td>\n",
       "      <td>N</td>\n",
       "      <td>Y</td>\n",
       "      <td>$8330.50</td>\n",
       "      <td>$4361.74</td>\n",
       "    </tr>\n",
       "  </tbody>\n",
       "</table>\n",
       "<p>5 rows × 37 columns</p>\n",
       "</div>"
      ],
      "text/plain": [
       "  Health Service Area Hospital County  Operating Certificate Number  \\\n",
       "0          Western NY     Cattaraugus                      401001.0   \n",
       "1          Western NY     Cattaraugus                      401001.0   \n",
       "2          Western NY     Cattaraugus                      401001.0   \n",
       "3          Western NY     Cattaraugus                      401001.0   \n",
       "4          Western NY      Chautauqua                      602001.0   \n",
       "\n",
       "   Facility Id                  Facility Name Age Group Zip Code - 3 digits  \\\n",
       "0         66.0         Olean General Hospital  50 to 69                 147   \n",
       "1         66.0         Olean General Hospital  18 to 29                 147   \n",
       "2         66.0         Olean General Hospital  30 to 49                 147   \n",
       "3         66.0         Olean General Hospital  50 to 69                 147   \n",
       "4        103.0  Woman's Christian Association  50 to 69                 147   \n",
       "\n",
       "  Gender   Race          Ethnicity  ... Payment Typology 2 Payment Typology 3  \\\n",
       "0      F  White  Not Span/Hispanic  ...                NaN                NaN   \n",
       "1      F  White  Not Span/Hispanic  ...                NaN                NaN   \n",
       "2      M  White  Not Span/Hispanic  ...                NaN                NaN   \n",
       "3      F  White  Not Span/Hispanic  ...                NaN                NaN   \n",
       "4      M  White  Not Span/Hispanic  ...                NaN                NaN   \n",
       "\n",
       "  Attending Provider License Number  Operating Provider License Number  \\\n",
       "0                          267162.0                                NaN   \n",
       "1                          275408.0                                NaN   \n",
       "2                          267162.0                                NaN   \n",
       "3                          271326.0                                NaN   \n",
       "4                          243034.0                                NaN   \n",
       "\n",
       "   Other Provider License Number Birth Weight  Abortion Edit Indicator  \\\n",
       "0                            NaN            0                        N   \n",
       "1                            NaN            0                        N   \n",
       "2                            NaN            0                        N   \n",
       "3                            NaN            0                        N   \n",
       "4                            NaN            0                        N   \n",
       "\n",
       "  Emergency Department Indicator  Total Charges Total Costs  \n",
       "0                              Y       $5620.00    $4561.28  \n",
       "1                              Y       $7404.18    $6933.94  \n",
       "2                              Y       $7931.28    $7154.85  \n",
       "3                              Y      $11304.44    $4584.11  \n",
       "4                              Y       $8330.50    $4361.74  \n",
       "\n",
       "[5 rows x 37 columns]"
      ]
     },
     "execution_count": 5,
     "metadata": {},
     "output_type": "execute_result"
    }
   ],
   "source": [
    "data.head()"
   ]
  },
  {
   "cell_type": "code",
   "execution_count": 6,
   "metadata": {},
   "outputs": [
    {
     "data": {
      "text/plain": [
       "Health Service Area                     object\n",
       "Hospital County                         object\n",
       "Operating Certificate Number           float64\n",
       "Facility Id                            float64\n",
       "Facility Name                           object\n",
       "Age Group                               object\n",
       "Zip Code - 3 digits                     object\n",
       "Gender                                  object\n",
       "Race                                    object\n",
       "Ethnicity                               object\n",
       "Length of Stay                          object\n",
       "Type of Admission                       object\n",
       "Patient Disposition                     object\n",
       "Discharge Year                           int64\n",
       "CCS Diagnosis Code                       int64\n",
       "CCS Diagnosis Description               object\n",
       "CCS Procedure Code                       int64\n",
       "CCS Procedure Description               object\n",
       "APR DRG Code                             int64\n",
       "APR DRG Description                     object\n",
       "APR MDC Code                             int64\n",
       "APR MDC Description                     object\n",
       "APR Severity of Illness Code             int64\n",
       "APR Severity of Illness Description     object\n",
       "APR Risk of Mortality                   object\n",
       "APR Medical Surgical Description        object\n",
       "Payment Typology 1                      object\n",
       "Payment Typology 2                      object\n",
       "Payment Typology 3                      object\n",
       "Attending Provider License Number      float64\n",
       "Operating Provider License Number      float64\n",
       "Other Provider License Number          float64\n",
       "Birth Weight                             int64\n",
       "Abortion Edit Indicator                 object\n",
       "Emergency Department Indicator          object\n",
       "Total Charges                           object\n",
       "Total Costs                             object\n",
       "dtype: object"
      ]
     },
     "execution_count": 6,
     "metadata": {},
     "output_type": "execute_result"
    }
   ],
   "source": [
    "data.dtypes"
   ]
  },
  {
   "cell_type": "code",
   "execution_count": 8,
   "metadata": {},
   "outputs": [],
   "source": [
    "# the column Length of Stay has to be numeric but instead is stored as an object. \n",
    "# one of the values in Length of Stay is 120+ so I need to remove the plus sign\n",
    "# total charges and total costs variables have a dollar sign - these need to be removed before i can convert the column \n",
    "# to numeric\n",
    "data.columns= [each.replace(\" \",\"_\") for each in data.columns]\n",
    "\n"
   ]
  },
  {
   "cell_type": "code",
   "execution_count": 10,
   "metadata": {},
   "outputs": [],
   "source": [
    "data.columns\n",
    "# removing dollar signs from cost columns\n",
    "\n",
    "data.Total_Charges = [each.replace(\"$\",\"\") for each in data.Total_Charges]"
   ]
  },
  {
   "cell_type": "code",
   "execution_count": 11,
   "metadata": {},
   "outputs": [
    {
     "data": {
      "text/html": [
       "<div>\n",
       "<style scoped>\n",
       "    .dataframe tbody tr th:only-of-type {\n",
       "        vertical-align: middle;\n",
       "    }\n",
       "\n",
       "    .dataframe tbody tr th {\n",
       "        vertical-align: top;\n",
       "    }\n",
       "\n",
       "    .dataframe thead th {\n",
       "        text-align: right;\n",
       "    }\n",
       "</style>\n",
       "<table border=\"1\" class=\"dataframe\">\n",
       "  <thead>\n",
       "    <tr style=\"text-align: right;\">\n",
       "      <th></th>\n",
       "      <th>Health_Service_Area</th>\n",
       "      <th>Hospital_County</th>\n",
       "      <th>Operating_Certificate_Number</th>\n",
       "      <th>Facility_Id</th>\n",
       "      <th>Facility_Name</th>\n",
       "      <th>Age_Group</th>\n",
       "      <th>Zip_Code_-_3_digits</th>\n",
       "      <th>Gender</th>\n",
       "      <th>Race</th>\n",
       "      <th>Ethnicity</th>\n",
       "      <th>...</th>\n",
       "      <th>Payment_Typology_2</th>\n",
       "      <th>Payment_Typology_3</th>\n",
       "      <th>Attending_Provider_License_Number</th>\n",
       "      <th>Operating_Provider_License_Number</th>\n",
       "      <th>Other_Provider_License_Number</th>\n",
       "      <th>Birth_Weight</th>\n",
       "      <th>Abortion_Edit_Indicator</th>\n",
       "      <th>Emergency_Department_Indicator</th>\n",
       "      <th>Total_Charges</th>\n",
       "      <th>Total_Costs</th>\n",
       "    </tr>\n",
       "  </thead>\n",
       "  <tbody>\n",
       "    <tr>\n",
       "      <th>2346755</th>\n",
       "      <td>Long Island</td>\n",
       "      <td>Suffolk</td>\n",
       "      <td>5157003.0</td>\n",
       "      <td>943.0</td>\n",
       "      <td>St Catherine of Siena Hospital</td>\n",
       "      <td>70 or Older</td>\n",
       "      <td>117</td>\n",
       "      <td>M</td>\n",
       "      <td>White</td>\n",
       "      <td>Not Span/Hispanic</td>\n",
       "      <td>...</td>\n",
       "      <td>Medicare</td>\n",
       "      <td>Private Health Insurance</td>\n",
       "      <td>201565.0</td>\n",
       "      <td>NaN</td>\n",
       "      <td>NaN</td>\n",
       "      <td>0</td>\n",
       "      <td>N</td>\n",
       "      <td>Y</td>\n",
       "      <td>43494.00</td>\n",
       "      <td>$6637.09</td>\n",
       "    </tr>\n",
       "    <tr>\n",
       "      <th>2346756</th>\n",
       "      <td>Long Island</td>\n",
       "      <td>Suffolk</td>\n",
       "      <td>5157003.0</td>\n",
       "      <td>943.0</td>\n",
       "      <td>St Catherine of Siena Hospital</td>\n",
       "      <td>50 to 69</td>\n",
       "      <td>117</td>\n",
       "      <td>M</td>\n",
       "      <td>White</td>\n",
       "      <td>Not Span/Hispanic</td>\n",
       "      <td>...</td>\n",
       "      <td>NaN</td>\n",
       "      <td>NaN</td>\n",
       "      <td>251080.0</td>\n",
       "      <td>272191.0</td>\n",
       "      <td>NaN</td>\n",
       "      <td>0</td>\n",
       "      <td>N</td>\n",
       "      <td>Y</td>\n",
       "      <td>16662.00</td>\n",
       "      <td>$3236.18</td>\n",
       "    </tr>\n",
       "    <tr>\n",
       "      <th>2346757</th>\n",
       "      <td>Long Island</td>\n",
       "      <td>Suffolk</td>\n",
       "      <td>5157003.0</td>\n",
       "      <td>943.0</td>\n",
       "      <td>St Catherine of Siena Hospital</td>\n",
       "      <td>50 to 69</td>\n",
       "      <td>119</td>\n",
       "      <td>M</td>\n",
       "      <td>White</td>\n",
       "      <td>Unknown</td>\n",
       "      <td>...</td>\n",
       "      <td>NaN</td>\n",
       "      <td>NaN</td>\n",
       "      <td>198807.0</td>\n",
       "      <td>NaN</td>\n",
       "      <td>NaN</td>\n",
       "      <td>0</td>\n",
       "      <td>N</td>\n",
       "      <td>N</td>\n",
       "      <td>7142.00</td>\n",
       "      <td>$1862.39</td>\n",
       "    </tr>\n",
       "    <tr>\n",
       "      <th>2346758</th>\n",
       "      <td>Long Island</td>\n",
       "      <td>Suffolk</td>\n",
       "      <td>5157003.0</td>\n",
       "      <td>943.0</td>\n",
       "      <td>St Catherine of Siena Hospital</td>\n",
       "      <td>70 or Older</td>\n",
       "      <td>117</td>\n",
       "      <td>M</td>\n",
       "      <td>White</td>\n",
       "      <td>Not Span/Hispanic</td>\n",
       "      <td>...</td>\n",
       "      <td>Medicare</td>\n",
       "      <td>Blue Cross/Blue Shield</td>\n",
       "      <td>268633.0</td>\n",
       "      <td>NaN</td>\n",
       "      <td>NaN</td>\n",
       "      <td>0</td>\n",
       "      <td>N</td>\n",
       "      <td>Y</td>\n",
       "      <td>13070.00</td>\n",
       "      <td>$2744.13</td>\n",
       "    </tr>\n",
       "    <tr>\n",
       "      <th>2346759</th>\n",
       "      <td>Long Island</td>\n",
       "      <td>Suffolk</td>\n",
       "      <td>5157003.0</td>\n",
       "      <td>943.0</td>\n",
       "      <td>St Catherine of Siena Hospital</td>\n",
       "      <td>30 to 49</td>\n",
       "      <td>117</td>\n",
       "      <td>M</td>\n",
       "      <td>White</td>\n",
       "      <td>Spanish/Hispanic</td>\n",
       "      <td>...</td>\n",
       "      <td>NaN</td>\n",
       "      <td>NaN</td>\n",
       "      <td>269959.0</td>\n",
       "      <td>NaN</td>\n",
       "      <td>NaN</td>\n",
       "      <td>0</td>\n",
       "      <td>N</td>\n",
       "      <td>Y</td>\n",
       "      <td>14637.00</td>\n",
       "      <td>$2128.89</td>\n",
       "    </tr>\n",
       "  </tbody>\n",
       "</table>\n",
       "<p>5 rows × 37 columns</p>\n",
       "</div>"
      ],
      "text/plain": [
       "        Health_Service_Area Hospital_County  Operating_Certificate_Number  \\\n",
       "2346755         Long Island         Suffolk                     5157003.0   \n",
       "2346756         Long Island         Suffolk                     5157003.0   \n",
       "2346757         Long Island         Suffolk                     5157003.0   \n",
       "2346758         Long Island         Suffolk                     5157003.0   \n",
       "2346759         Long Island         Suffolk                     5157003.0   \n",
       "\n",
       "         Facility_Id                   Facility_Name    Age_Group  \\\n",
       "2346755        943.0  St Catherine of Siena Hospital  70 or Older   \n",
       "2346756        943.0  St Catherine of Siena Hospital     50 to 69   \n",
       "2346757        943.0  St Catherine of Siena Hospital     50 to 69   \n",
       "2346758        943.0  St Catherine of Siena Hospital  70 or Older   \n",
       "2346759        943.0  St Catherine of Siena Hospital     30 to 49   \n",
       "\n",
       "        Zip_Code_-_3_digits Gender   Race          Ethnicity  ...  \\\n",
       "2346755                 117      M  White  Not Span/Hispanic  ...   \n",
       "2346756                 117      M  White  Not Span/Hispanic  ...   \n",
       "2346757                 119      M  White            Unknown  ...   \n",
       "2346758                 117      M  White  Not Span/Hispanic  ...   \n",
       "2346759                 117      M  White   Spanish/Hispanic  ...   \n",
       "\n",
       "        Payment_Typology_2        Payment_Typology_3  \\\n",
       "2346755           Medicare  Private Health Insurance   \n",
       "2346756                NaN                       NaN   \n",
       "2346757                NaN                       NaN   \n",
       "2346758           Medicare    Blue Cross/Blue Shield   \n",
       "2346759                NaN                       NaN   \n",
       "\n",
       "        Attending_Provider_License_Number  Operating_Provider_License_Number  \\\n",
       "2346755                          201565.0                                NaN   \n",
       "2346756                          251080.0                           272191.0   \n",
       "2346757                          198807.0                                NaN   \n",
       "2346758                          268633.0                                NaN   \n",
       "2346759                          269959.0                                NaN   \n",
       "\n",
       "         Other_Provider_License_Number Birth_Weight  Abortion_Edit_Indicator  \\\n",
       "2346755                            NaN            0                        N   \n",
       "2346756                            NaN            0                        N   \n",
       "2346757                            NaN            0                        N   \n",
       "2346758                            NaN            0                        N   \n",
       "2346759                            NaN            0                        N   \n",
       "\n",
       "        Emergency_Department_Indicator  Total_Charges Total_Costs  \n",
       "2346755                              Y       43494.00    $6637.09  \n",
       "2346756                              Y       16662.00    $3236.18  \n",
       "2346757                              N        7142.00    $1862.39  \n",
       "2346758                              Y       13070.00    $2744.13  \n",
       "2346759                              Y       14637.00    $2128.89  \n",
       "\n",
       "[5 rows x 37 columns]"
      ]
     },
     "execution_count": 11,
     "metadata": {},
     "output_type": "execute_result"
    }
   ],
   "source": [
    "data.tail()"
   ]
  },
  {
   "cell_type": "code",
   "execution_count": 13,
   "metadata": {},
   "outputs": [],
   "source": [
    "data.Total_Costs = [each.replace(\"$\",\"\") for each in data.Total_Costs]\n",
    "\n",
    "#Length of Stay:\n",
    "\n",
    "data.Length_of_Stay = [each == 120 if (each == \"120 +\") else each for each in data.Length_of_Stay]\n",
    "                   "
   ]
  },
  {
   "cell_type": "code",
   "execution_count": 16,
   "metadata": {},
   "outputs": [],
   "source": [
    "data.Total_Charges = data.Total_Charges.astype('float')"
   ]
  },
  {
   "cell_type": "code",
   "execution_count": 17,
   "metadata": {},
   "outputs": [],
   "source": [
    "data[\"Total_Costs\"] = data[\"Total_Costs\"].astype('float')\n",
    "data.Length_of_Stay = data.Length_of_Stay.astype('int')"
   ]
  },
  {
   "cell_type": "code",
   "execution_count": 19,
   "metadata": {},
   "outputs": [
    {
     "data": {
      "text/plain": [
       "Health_Service_Area                     object\n",
       "Hospital_County                         object\n",
       "Operating_Certificate_Number           float64\n",
       "Facility_Id                            float64\n",
       "Facility_Name                           object\n",
       "Age_Group                               object\n",
       "Zip_Code_-_3_digits                     object\n",
       "Gender                                  object\n",
       "Race                                    object\n",
       "Ethnicity                               object\n",
       "Length_of_Stay                           int32\n",
       "Type_of_Admission                       object\n",
       "Patient_Disposition                     object\n",
       "Discharge_Year                           int64\n",
       "CCS_Diagnosis_Code                       int64\n",
       "CCS_Diagnosis_Description               object\n",
       "CCS_Procedure_Code                       int64\n",
       "CCS_Procedure_Description               object\n",
       "APR_DRG_Code                             int64\n",
       "APR_DRG_Description                     object\n",
       "APR_MDC_Code                             int64\n",
       "APR_MDC_Description                     object\n",
       "APR_Severity_of_Illness_Code             int64\n",
       "APR_Severity_of_Illness_Description     object\n",
       "APR_Risk_of_Mortality                   object\n",
       "APR_Medical_Surgical_Description        object\n",
       "Payment_Typology_1                      object\n",
       "Payment_Typology_2                      object\n",
       "Payment_Typology_3                      object\n",
       "Attending_Provider_License_Number      float64\n",
       "Operating_Provider_License_Number      float64\n",
       "Other_Provider_License_Number          float64\n",
       "Birth_Weight                             int64\n",
       "Abortion_Edit_Indicator                 object\n",
       "Emergency_Department_Indicator          object\n",
       "Total_Charges                          float64\n",
       "Total_Costs                            float64\n",
       "dtype: object"
      ]
     },
     "execution_count": 19,
     "metadata": {},
     "output_type": "execute_result"
    }
   ],
   "source": [
    "data.dtypes"
   ]
  },
  {
   "cell_type": "code",
   "execution_count": 20,
   "metadata": {},
   "outputs": [
    {
     "data": {
      "text/html": [
       "<div>\n",
       "<style scoped>\n",
       "    .dataframe tbody tr th:only-of-type {\n",
       "        vertical-align: middle;\n",
       "    }\n",
       "\n",
       "    .dataframe tbody tr th {\n",
       "        vertical-align: top;\n",
       "    }\n",
       "\n",
       "    .dataframe thead th {\n",
       "        text-align: right;\n",
       "    }\n",
       "</style>\n",
       "<table border=\"1\" class=\"dataframe\">\n",
       "  <thead>\n",
       "    <tr style=\"text-align: right;\">\n",
       "      <th></th>\n",
       "      <th>Operating_Certificate_Number</th>\n",
       "      <th>Facility_Id</th>\n",
       "      <th>Length_of_Stay</th>\n",
       "      <th>Discharge_Year</th>\n",
       "      <th>CCS_Diagnosis_Code</th>\n",
       "      <th>CCS_Procedure_Code</th>\n",
       "      <th>APR_DRG_Code</th>\n",
       "      <th>APR_MDC_Code</th>\n",
       "      <th>APR_Severity_of_Illness_Code</th>\n",
       "      <th>Attending_Provider_License_Number</th>\n",
       "      <th>Operating_Provider_License_Number</th>\n",
       "      <th>Other_Provider_License_Number</th>\n",
       "      <th>Birth_Weight</th>\n",
       "      <th>Total_Charges</th>\n",
       "      <th>Total_Costs</th>\n",
       "    </tr>\n",
       "  </thead>\n",
       "  <tbody>\n",
       "    <tr>\n",
       "      <th>count</th>\n",
       "      <td>2.343849e+06</td>\n",
       "      <td>2.343849e+06</td>\n",
       "      <td>2.346760e+06</td>\n",
       "      <td>2346760.0</td>\n",
       "      <td>2.346760e+06</td>\n",
       "      <td>2.346760e+06</td>\n",
       "      <td>2.346760e+06</td>\n",
       "      <td>2.346760e+06</td>\n",
       "      <td>2.346760e+06</td>\n",
       "      <td>2.343849e+06</td>\n",
       "      <td>1.733912e+06</td>\n",
       "      <td>7.133600e+04</td>\n",
       "      <td>2.346760e+06</td>\n",
       "      <td>2.346760e+06</td>\n",
       "      <td>2.346760e+06</td>\n",
       "    </tr>\n",
       "    <tr>\n",
       "      <th>mean</th>\n",
       "      <td>5.007196e+06</td>\n",
       "      <td>1.043335e+03</td>\n",
       "      <td>5.380333e+00</td>\n",
       "      <td>2015.0</td>\n",
       "      <td>1.905531e+02</td>\n",
       "      <td>1.127790e+02</td>\n",
       "      <td>4.181138e+02</td>\n",
       "      <td>1.042892e+01</td>\n",
       "      <td>2.010595e+00</td>\n",
       "      <td>2.176429e+06</td>\n",
       "      <td>2.528763e+06</td>\n",
       "      <td>1.297207e+07</td>\n",
       "      <td>3.264275e+02</td>\n",
       "      <td>4.320562e+04</td>\n",
       "      <td>1.598484e+04</td>\n",
       "    </tr>\n",
       "    <tr>\n",
       "      <th>std</th>\n",
       "      <td>2.259460e+06</td>\n",
       "      <td>7.134138e+02</td>\n",
       "      <td>7.358093e+00</td>\n",
       "      <td>0.0</td>\n",
       "      <td>1.596109e+02</td>\n",
       "      <td>8.893687e+01</td>\n",
       "      <td>2.413368e+02</td>\n",
       "      <td>5.923686e+00</td>\n",
       "      <td>8.973762e-01</td>\n",
       "      <td>1.201747e+07</td>\n",
       "      <td>1.290688e+07</td>\n",
       "      <td>2.991695e+07</td>\n",
       "      <td>1.000147e+03</td>\n",
       "      <td>8.043895e+04</td>\n",
       "      <td>3.238360e+04</td>\n",
       "    </tr>\n",
       "    <tr>\n",
       "      <th>min</th>\n",
       "      <td>1.010000e+05</td>\n",
       "      <td>1.000000e+00</td>\n",
       "      <td>0.000000e+00</td>\n",
       "      <td>2015.0</td>\n",
       "      <td>1.000000e+00</td>\n",
       "      <td>0.000000e+00</td>\n",
       "      <td>1.000000e+00</td>\n",
       "      <td>0.000000e+00</td>\n",
       "      <td>0.000000e+00</td>\n",
       "      <td>6.150000e+02</td>\n",
       "      <td>7.100000e+01</td>\n",
       "      <td>1.307000e+03</td>\n",
       "      <td>0.000000e+00</td>\n",
       "      <td>1.000000e-02</td>\n",
       "      <td>0.000000e+00</td>\n",
       "    </tr>\n",
       "    <tr>\n",
       "      <th>25%</th>\n",
       "      <td>2.951001e+06</td>\n",
       "      <td>5.410000e+02</td>\n",
       "      <td>2.000000e+00</td>\n",
       "      <td>2015.0</td>\n",
       "      <td>1.060000e+02</td>\n",
       "      <td>0.000000e+00</td>\n",
       "      <td>2.010000e+02</td>\n",
       "      <td>5.000000e+00</td>\n",
       "      <td>1.000000e+00</td>\n",
       "      <td>1.923180e+05</td>\n",
       "      <td>1.855150e+05</td>\n",
       "      <td>1.835760e+05</td>\n",
       "      <td>0.000000e+00</td>\n",
       "      <td>1.202705e+04</td>\n",
       "      <td>4.724148e+03</td>\n",
       "    </tr>\n",
       "    <tr>\n",
       "      <th>50%</th>\n",
       "      <td>5.907001e+06</td>\n",
       "      <td>1.099000e+03</td>\n",
       "      <td>3.000000e+00</td>\n",
       "      <td>2015.0</td>\n",
       "      <td>1.590000e+02</td>\n",
       "      <td>1.320000e+02</td>\n",
       "      <td>3.830000e+02</td>\n",
       "      <td>9.000000e+00</td>\n",
       "      <td>2.000000e+00</td>\n",
       "      <td>2.294950e+05</td>\n",
       "      <td>2.230620e+05</td>\n",
       "      <td>2.271450e+05</td>\n",
       "      <td>0.000000e+00</td>\n",
       "      <td>2.348088e+04</td>\n",
       "      <td>8.791390e+03</td>\n",
       "    </tr>\n",
       "    <tr>\n",
       "      <th>75%</th>\n",
       "      <td>7.002012e+06</td>\n",
       "      <td>1.450000e+03</td>\n",
       "      <td>6.000000e+00</td>\n",
       "      <td>2015.0</td>\n",
       "      <td>2.180000e+02</td>\n",
       "      <td>2.160000e+02</td>\n",
       "      <td>6.400000e+02</td>\n",
       "      <td>1.500000e+01</td>\n",
       "      <td>3.000000e+00</td>\n",
       "      <td>2.579130e+05</td>\n",
       "      <td>2.534160e+05</td>\n",
       "      <td>2.634160e+05</td>\n",
       "      <td>0.000000e+00</td>\n",
       "      <td>4.660665e+04</td>\n",
       "      <td>1.683467e+04</td>\n",
       "    </tr>\n",
       "    <tr>\n",
       "      <th>max</th>\n",
       "      <td>7.004010e+06</td>\n",
       "      <td>9.431000e+03</td>\n",
       "      <td>1.190000e+02</td>\n",
       "      <td>2015.0</td>\n",
       "      <td>9.170000e+02</td>\n",
       "      <td>9.990000e+02</td>\n",
       "      <td>9.560000e+02</td>\n",
       "      <td>2.500000e+01</td>\n",
       "      <td>4.000000e+00</td>\n",
       "      <td>9.100000e+07</td>\n",
       "      <td>9.100000e+07</td>\n",
       "      <td>9.060222e+07</td>\n",
       "      <td>9.900000e+03</td>\n",
       "      <td>7.248391e+06</td>\n",
       "      <td>5.236615e+06</td>\n",
       "    </tr>\n",
       "  </tbody>\n",
       "</table>\n",
       "</div>"
      ],
      "text/plain": [
       "       Operating_Certificate_Number   Facility_Id  Length_of_Stay  \\\n",
       "count                  2.343849e+06  2.343849e+06    2.346760e+06   \n",
       "mean                   5.007196e+06  1.043335e+03    5.380333e+00   \n",
       "std                    2.259460e+06  7.134138e+02    7.358093e+00   \n",
       "min                    1.010000e+05  1.000000e+00    0.000000e+00   \n",
       "25%                    2.951001e+06  5.410000e+02    2.000000e+00   \n",
       "50%                    5.907001e+06  1.099000e+03    3.000000e+00   \n",
       "75%                    7.002012e+06  1.450000e+03    6.000000e+00   \n",
       "max                    7.004010e+06  9.431000e+03    1.190000e+02   \n",
       "\n",
       "       Discharge_Year  CCS_Diagnosis_Code  CCS_Procedure_Code  APR_DRG_Code  \\\n",
       "count       2346760.0        2.346760e+06        2.346760e+06  2.346760e+06   \n",
       "mean           2015.0        1.905531e+02        1.127790e+02  4.181138e+02   \n",
       "std               0.0        1.596109e+02        8.893687e+01  2.413368e+02   \n",
       "min            2015.0        1.000000e+00        0.000000e+00  1.000000e+00   \n",
       "25%            2015.0        1.060000e+02        0.000000e+00  2.010000e+02   \n",
       "50%            2015.0        1.590000e+02        1.320000e+02  3.830000e+02   \n",
       "75%            2015.0        2.180000e+02        2.160000e+02  6.400000e+02   \n",
       "max            2015.0        9.170000e+02        9.990000e+02  9.560000e+02   \n",
       "\n",
       "       APR_MDC_Code  APR_Severity_of_Illness_Code  \\\n",
       "count  2.346760e+06                  2.346760e+06   \n",
       "mean   1.042892e+01                  2.010595e+00   \n",
       "std    5.923686e+00                  8.973762e-01   \n",
       "min    0.000000e+00                  0.000000e+00   \n",
       "25%    5.000000e+00                  1.000000e+00   \n",
       "50%    9.000000e+00                  2.000000e+00   \n",
       "75%    1.500000e+01                  3.000000e+00   \n",
       "max    2.500000e+01                  4.000000e+00   \n",
       "\n",
       "       Attending_Provider_License_Number  Operating_Provider_License_Number  \\\n",
       "count                       2.343849e+06                       1.733912e+06   \n",
       "mean                        2.176429e+06                       2.528763e+06   \n",
       "std                         1.201747e+07                       1.290688e+07   \n",
       "min                         6.150000e+02                       7.100000e+01   \n",
       "25%                         1.923180e+05                       1.855150e+05   \n",
       "50%                         2.294950e+05                       2.230620e+05   \n",
       "75%                         2.579130e+05                       2.534160e+05   \n",
       "max                         9.100000e+07                       9.100000e+07   \n",
       "\n",
       "       Other_Provider_License_Number  Birth_Weight  Total_Charges  \\\n",
       "count                   7.133600e+04  2.346760e+06   2.346760e+06   \n",
       "mean                    1.297207e+07  3.264275e+02   4.320562e+04   \n",
       "std                     2.991695e+07  1.000147e+03   8.043895e+04   \n",
       "min                     1.307000e+03  0.000000e+00   1.000000e-02   \n",
       "25%                     1.835760e+05  0.000000e+00   1.202705e+04   \n",
       "50%                     2.271450e+05  0.000000e+00   2.348088e+04   \n",
       "75%                     2.634160e+05  0.000000e+00   4.660665e+04   \n",
       "max                     9.060222e+07  9.900000e+03   7.248391e+06   \n",
       "\n",
       "        Total_Costs  \n",
       "count  2.346760e+06  \n",
       "mean   1.598484e+04  \n",
       "std    3.238360e+04  \n",
       "min    0.000000e+00  \n",
       "25%    4.724148e+03  \n",
       "50%    8.791390e+03  \n",
       "75%    1.683467e+04  \n",
       "max    5.236615e+06  "
      ]
     },
     "execution_count": 20,
     "metadata": {},
     "output_type": "execute_result"
    }
   ],
   "source": [
    "data.describe()"
   ]
  },
  {
   "cell_type": "code",
   "execution_count": 21,
   "metadata": {},
   "outputs": [
    {
     "data": {
      "text/plain": [
       "count    2.346760e+06\n",
       "mean     1.598484e+04\n",
       "std      3.238360e+04\n",
       "min      0.000000e+00\n",
       "25%      4.724148e+03\n",
       "50%      8.791390e+03\n",
       "75%      1.683467e+04\n",
       "max      5.236615e+06\n",
       "Name: Total_Costs, dtype: float64"
      ]
     },
     "execution_count": 21,
     "metadata": {},
     "output_type": "execute_result"
    }
   ],
   "source": [
    "data.Total_Costs.describe()"
   ]
  },
  {
   "cell_type": "code",
   "execution_count": 23,
   "metadata": {},
   "outputs": [
    {
     "data": {
      "text/html": [
       "<div>\n",
       "<style scoped>\n",
       "    .dataframe tbody tr th:only-of-type {\n",
       "        vertical-align: middle;\n",
       "    }\n",
       "\n",
       "    .dataframe tbody tr th {\n",
       "        vertical-align: top;\n",
       "    }\n",
       "\n",
       "    .dataframe thead th {\n",
       "        text-align: right;\n",
       "    }\n",
       "</style>\n",
       "<table border=\"1\" class=\"dataframe\">\n",
       "  <thead>\n",
       "    <tr style=\"text-align: right;\">\n",
       "      <th></th>\n",
       "      <th>Length_of_Stay</th>\n",
       "      <th>Total_Charges</th>\n",
       "      <th>Total_Costs</th>\n",
       "      <th>Birth_Weight</th>\n",
       "    </tr>\n",
       "  </thead>\n",
       "  <tbody>\n",
       "    <tr>\n",
       "      <th>count</th>\n",
       "      <td>2.346760e+06</td>\n",
       "      <td>2.346760e+06</td>\n",
       "      <td>2.346760e+06</td>\n",
       "      <td>2.346760e+06</td>\n",
       "    </tr>\n",
       "    <tr>\n",
       "      <th>mean</th>\n",
       "      <td>5.380333e+00</td>\n",
       "      <td>4.320562e+04</td>\n",
       "      <td>1.598484e+04</td>\n",
       "      <td>3.264275e+02</td>\n",
       "    </tr>\n",
       "    <tr>\n",
       "      <th>std</th>\n",
       "      <td>7.358093e+00</td>\n",
       "      <td>8.043895e+04</td>\n",
       "      <td>3.238360e+04</td>\n",
       "      <td>1.000147e+03</td>\n",
       "    </tr>\n",
       "    <tr>\n",
       "      <th>min</th>\n",
       "      <td>0.000000e+00</td>\n",
       "      <td>1.000000e-02</td>\n",
       "      <td>0.000000e+00</td>\n",
       "      <td>0.000000e+00</td>\n",
       "    </tr>\n",
       "    <tr>\n",
       "      <th>25%</th>\n",
       "      <td>2.000000e+00</td>\n",
       "      <td>1.202705e+04</td>\n",
       "      <td>4.724148e+03</td>\n",
       "      <td>0.000000e+00</td>\n",
       "    </tr>\n",
       "    <tr>\n",
       "      <th>50%</th>\n",
       "      <td>3.000000e+00</td>\n",
       "      <td>2.348088e+04</td>\n",
       "      <td>8.791390e+03</td>\n",
       "      <td>0.000000e+00</td>\n",
       "    </tr>\n",
       "    <tr>\n",
       "      <th>75%</th>\n",
       "      <td>6.000000e+00</td>\n",
       "      <td>4.660665e+04</td>\n",
       "      <td>1.683467e+04</td>\n",
       "      <td>0.000000e+00</td>\n",
       "    </tr>\n",
       "    <tr>\n",
       "      <th>max</th>\n",
       "      <td>1.190000e+02</td>\n",
       "      <td>7.248391e+06</td>\n",
       "      <td>5.236615e+06</td>\n",
       "      <td>9.900000e+03</td>\n",
       "    </tr>\n",
       "  </tbody>\n",
       "</table>\n",
       "</div>"
      ],
      "text/plain": [
       "       Length_of_Stay  Total_Charges   Total_Costs  Birth_Weight\n",
       "count    2.346760e+06   2.346760e+06  2.346760e+06  2.346760e+06\n",
       "mean     5.380333e+00   4.320562e+04  1.598484e+04  3.264275e+02\n",
       "std      7.358093e+00   8.043895e+04  3.238360e+04  1.000147e+03\n",
       "min      0.000000e+00   1.000000e-02  0.000000e+00  0.000000e+00\n",
       "25%      2.000000e+00   1.202705e+04  4.724148e+03  0.000000e+00\n",
       "50%      3.000000e+00   2.348088e+04  8.791390e+03  0.000000e+00\n",
       "75%      6.000000e+00   4.660665e+04  1.683467e+04  0.000000e+00\n",
       "max      1.190000e+02   7.248391e+06  5.236615e+06  9.900000e+03"
      ]
     },
     "execution_count": 23,
     "metadata": {},
     "output_type": "execute_result"
    }
   ],
   "source": [
    "data.loc[:,[\"Length_of_Stay\",\"Total_Charges\",\"Total_Costs\",\"Birth_Weight\"]].describe()"
   ]
  },
  {
   "cell_type": "code",
   "execution_count": 24,
   "metadata": {},
   "outputs": [
    {
     "data": {
      "text/plain": [
       "Health_Service_Area                       2911\n",
       "Hospital_County                           2911\n",
       "Operating_Certificate_Number              2911\n",
       "Facility_Id                               2911\n",
       "Facility_Name                                0\n",
       "Age_Group                                    0\n",
       "Zip_Code_-_3_digits                       4427\n",
       "Gender                                       0\n",
       "Race                                         0\n",
       "Ethnicity                                    0\n",
       "Length_of_Stay                               0\n",
       "Type_of_Admission                            0\n",
       "Patient_Disposition                          0\n",
       "Discharge_Year                               0\n",
       "CCS_Diagnosis_Code                           0\n",
       "CCS_Diagnosis_Description                    0\n",
       "CCS_Procedure_Code                           0\n",
       "CCS_Procedure_Description                    0\n",
       "APR_DRG_Code                                 0\n",
       "APR_DRG_Description                          0\n",
       "APR_MDC_Code                                 0\n",
       "APR_MDC_Description                          0\n",
       "APR_Severity_of_Illness_Code                 0\n",
       "APR_Severity_of_Illness_Description        112\n",
       "APR_Risk_of_Mortality                      112\n",
       "APR_Medical_Surgical_Description             0\n",
       "Payment_Typology_1                           0\n",
       "Payment_Typology_2                      762346\n",
       "Payment_Typology_3                     1645570\n",
       "Attending_Provider_License_Number         2911\n",
       "Operating_Provider_License_Number       612848\n",
       "Other_Provider_License_Number          2275424\n",
       "Birth_Weight                                 0\n",
       "Abortion_Edit_Indicator                      0\n",
       "Emergency_Department_Indicator               0\n",
       "Total_Charges                                0\n",
       "Total_Costs                                  0\n",
       "dtype: int64"
      ]
     },
     "execution_count": 24,
     "metadata": {},
     "output_type": "execute_result"
    }
   ],
   "source": [
    "#capturing missing values in the data\n",
    "\n",
    "data.isnull().sum()"
   ]
  },
  {
   "cell_type": "code",
   "execution_count": 26,
   "metadata": {},
   "outputs": [
    {
     "name": "stdout",
     "output_type": "stream",
     "text": [
      "['Minor' 'Moderate' 'Major' 'Extreme' nan]\n"
     ]
    }
   ],
   "source": [
    "print(data.APR_Risk_of_Mortality.unique())\n",
    "\n",
    "#printing out the unique values in the Risk of Mortality attribute"
   ]
  },
  {
   "cell_type": "code",
   "execution_count": 27,
   "metadata": {},
   "outputs": [
    {
     "data": {
      "text/plain": [
       "array(['50 to 69', '18 to 29', '30 to 49', '70 or Older', '0 to 17'],\n",
       "      dtype=object)"
      ]
     },
     "execution_count": 27,
     "metadata": {},
     "output_type": "execute_result"
    }
   ],
   "source": [
    "data.Age_Group.unique()"
   ]
  },
  {
   "cell_type": "code",
   "execution_count": 28,
   "metadata": {},
   "outputs": [
    {
     "data": {
      "text/plain": [
       "array(['Emergency', 'Urgent', 'Elective', 'Not Available', 'Trauma',\n",
       "       'Newborn'], dtype=object)"
      ]
     },
     "execution_count": 28,
     "metadata": {},
     "output_type": "execute_result"
    }
   ],
   "source": [
    "data.Type_of_Admission.unique()"
   ]
  },
  {
   "cell_type": "code",
   "execution_count": 29,
   "metadata": {},
   "outputs": [
    {
     "data": {
      "text/plain": [
       "array(['Cattaraugus', 'Chautauqua', 'Erie', 'Genesee', 'Niagara',\n",
       "       'Chemung', 'Livingston', 'Monroe', nan, 'Ontario', 'Steuben',\n",
       "       'Wayne', 'Yates', 'Oswego', 'Broome', 'Cayuga', 'Chenango',\n",
       "       'Cortland', 'Herkimer', 'Jefferson', 'Lewis', 'Madison', 'Oneida',\n",
       "       'Onondaga', 'St Lawrence', 'Tompkins', 'Albany', 'Clinton',\n",
       "       'Columbia', 'Franklin', 'Fulton', 'Montgomery', 'Otsego',\n",
       "       'Rensselaer', 'Saratoga', 'Schenectady', 'Warren', 'Dutchess',\n",
       "       'Orange', 'Putnam', 'Rockland', 'Sullivan', 'Ulster',\n",
       "       'Westchester', 'Bronx', 'Kings', 'Manhattan', 'Richmond', 'Queens',\n",
       "       'Suffolk', 'Nassau', 'Allegany', 'Wyoming', 'Orleans', 'Schuyler',\n",
       "       'Delaware', 'Essex', 'Schoharie'], dtype=object)"
      ]
     },
     "execution_count": 29,
     "metadata": {},
     "output_type": "execute_result"
    }
   ],
   "source": [
    "data.Hospital_County.unique()"
   ]
  },
  {
   "cell_type": "code",
   "execution_count": 30,
   "metadata": {},
   "outputs": [
    {
     "data": {
      "text/plain": [
       "58"
      ]
     },
     "execution_count": 30,
     "metadata": {},
     "output_type": "execute_result"
    }
   ],
   "source": [
    "len(data.Hospital_County.unique())"
   ]
  },
  {
   "cell_type": "code",
   "execution_count": 31,
   "metadata": {},
   "outputs": [
    {
     "data": {
      "text/plain": [
       "array(['Mental Diseases and Disorders',\n",
       "       'Diseases and Disorders of the Respiratory System',\n",
       "       'Diseases and Disorders of the Nervous System',\n",
       "       'Diseases and Disorders of the Circulatory System',\n",
       "       'Diseases and Disorders of the Kidney and Urinary Tract',\n",
       "       'Diseases and Disorders of the Digestive System',\n",
       "       'Endocrine, Nutritional and Metabolic Diseases and Disorders',\n",
       "       'Pregnancy, Childbirth and the Puerperium', 'Burns',\n",
       "       'Infectious and Parasitic Diseases, Systemic or Unspecified Sites',\n",
       "       'Diseases and Disorders of the Skin, Subcutaneous Tissue and Breast',\n",
       "       'Human Immunodeficiency Virus Infections',\n",
       "       'Diseases and Disorders of the Hepatobiliary System and Pancreas',\n",
       "       'Alcohol/Drug Use and Alcohol/Drug Induced Organic Mental Disorders',\n",
       "       'Multiple Significant Trauma',\n",
       "       'Newborns and Other Neonates with Conditions Originating in the Perinatal Period',\n",
       "       'Lymphatic, Hematopoietic, Other Malignancies, Chemotherapy and Radiotherapy',\n",
       "       'Diseases and Disorders of the Eye', 'Pre-MDC or Ungroupable',\n",
       "       'Diseases and Disorders of the Female Reproductive System',\n",
       "       'Ear, Nose, Mouth, Throat and Craniofacial Diseases and Disorders',\n",
       "       'Rehabilitation, Aftercare, Other Factors Influencing Health Status and Other Health Service Contacts',\n",
       "       'Diseases and Disorders of the Musculoskeletal System and Conn Tissue',\n",
       "       'Poisonings, Toxic Effects, Other Injuries and Other Complications of Treatment',\n",
       "       'Diseases and Disorders of Blood, Blood Forming Organs and Immunological Disorders',\n",
       "       'Diseases and Disorders of the Male Reproductive System'],\n",
       "      dtype=object)"
      ]
     },
     "execution_count": 31,
     "metadata": {},
     "output_type": "execute_result"
    }
   ],
   "source": [
    "data.APR_MDC_Description.unique()"
   ]
  },
  {
   "cell_type": "code",
   "execution_count": 34,
   "metadata": {},
   "outputs": [
    {
     "data": {
      "text/plain": [
       "26"
      ]
     },
     "execution_count": 34,
     "metadata": {},
     "output_type": "execute_result"
    }
   ],
   "source": [
    "len(data.APR_MDC_Description.unique())"
   ]
  },
  {
   "cell_type": "code",
   "execution_count": 35,
   "metadata": {},
   "outputs": [
    {
     "data": {
      "text/plain": [
       "Emergency        1488031\n",
       "Elective          447280\n",
       "Newborn           227100\n",
       "Urgent            176782\n",
       "Trauma              6394\n",
       "Not Available       1173\n",
       "Name: Type_of_Admission, dtype: int64"
      ]
     },
     "execution_count": 35,
     "metadata": {},
     "output_type": "execute_result"
    }
   ],
   "source": [
    "# grouping features by data numbers\n",
    "\n",
    "data.Type_of_Admission.value_counts(dropna=False)\n",
    "\n",
    "# inference: most of the cases are emergency cases and there are no missing values!"
   ]
  },
  {
   "cell_type": "code",
   "execution_count": 36,
   "metadata": {},
   "outputs": [
    {
     "data": {
      "text/plain": [
       "50 to 69       645004\n",
       "70 or Older    643488\n",
       "30 to 49       458457\n",
       "0 to 17        352588\n",
       "18 to 29       247223\n",
       "Name: Age_Group, dtype: int64"
      ]
     },
     "execution_count": 36,
     "metadata": {},
     "output_type": "execute_result"
    }
   ],
   "source": [
    "# age groups\n",
    "\n",
    "data.Age_Group.value_counts(dropna=False)"
   ]
  },
  {
   "cell_type": "code",
   "execution_count": 37,
   "metadata": {},
   "outputs": [],
   "source": [
    "# most of the patients are above 50 years old"
   ]
  },
  {
   "cell_type": "code",
   "execution_count": 38,
   "metadata": {},
   "outputs": [
    {
     "data": {
      "text/plain": [
       "N    2343849\n",
       "Y       2911\n",
       "Name: Abortion_Edit_Indicator, dtype: int64"
      ]
     },
     "execution_count": 38,
     "metadata": {},
     "output_type": "execute_result"
    }
   ],
   "source": [
    "# finding out the number of cases who have undergone abortion or not\n",
    "\n",
    "data.Abortion_Edit_Indicator.value_counts(dropna=False)"
   ]
  },
  {
   "cell_type": "code",
   "execution_count": 40,
   "metadata": {},
   "outputs": [
    {
     "data": {
      "text/plain": [
       "Minor       1389588\n",
       "Moderate     500069\n",
       "Major        335242\n",
       "Extreme      121749\n",
       "Name: APR_Risk_of_Mortality, dtype: int64"
      ]
     },
     "execution_count": 40,
     "metadata": {},
     "output_type": "execute_result"
    }
   ],
   "source": [
    "data.APR_Risk_of_Mortality.value_counts()"
   ]
  },
  {
   "cell_type": "code",
   "execution_count": 72,
   "metadata": {},
   "outputs": [
    {
     "name": "stdout",
     "output_type": "stream",
     "text": [
      "Total newborns : 2346760\n"
     ]
    },
    {
     "data": {
      "text/plain": [
       "(2346760, 37)"
      ]
     },
     "execution_count": 72,
     "metadata": {},
     "output_type": "execute_result"
    }
   ],
   "source": [
    "# the attribute Abortion Edit Indicator is a flag to indicate whether there was an abortion or not. This flag is \n",
    "# only applicable to new borns\n",
    "\n",
    "# so we need to filter records where the Type of Admission is \"Newborns\"\n",
    "\n",
    "# how to filter records in Python:\n",
    "    \n",
    "# need to ask!!!!!\n",
    "data_newborns = data.Type_of_Admission == \"Newborn\"\n",
    "print(\"Total newborns :\", data_newborns.count())\n",
    "\n",
    "\n",
    "data[data_newborns].shape\n",
    "data.shape\n"
   ]
  },
  {
   "cell_type": "code",
   "execution_count": 61,
   "metadata": {},
   "outputs": [
    {
     "data": {
      "text/html": [
       "<div>\n",
       "<style scoped>\n",
       "    .dataframe tbody tr th:only-of-type {\n",
       "        vertical-align: middle;\n",
       "    }\n",
       "\n",
       "    .dataframe tbody tr th {\n",
       "        vertical-align: top;\n",
       "    }\n",
       "\n",
       "    .dataframe thead th {\n",
       "        text-align: right;\n",
       "    }\n",
       "</style>\n",
       "<table border=\"1\" class=\"dataframe\">\n",
       "  <thead>\n",
       "    <tr style=\"text-align: right;\">\n",
       "      <th></th>\n",
       "      <th>Health_Service_Area</th>\n",
       "      <th>Hospital_County</th>\n",
       "      <th>Operating_Certificate_Number</th>\n",
       "      <th>Facility_Id</th>\n",
       "      <th>Facility_Name</th>\n",
       "      <th>Age_Group</th>\n",
       "      <th>Zip_Code_-_3_digits</th>\n",
       "      <th>Gender</th>\n",
       "      <th>Race</th>\n",
       "      <th>Ethnicity</th>\n",
       "      <th>...</th>\n",
       "      <th>Payment_Typology_2</th>\n",
       "      <th>Payment_Typology_3</th>\n",
       "      <th>Attending_Provider_License_Number</th>\n",
       "      <th>Operating_Provider_License_Number</th>\n",
       "      <th>Other_Provider_License_Number</th>\n",
       "      <th>Birth_Weight</th>\n",
       "      <th>Abortion_Edit_Indicator</th>\n",
       "      <th>Emergency_Department_Indicator</th>\n",
       "      <th>Total_Charges</th>\n",
       "      <th>Total_Costs</th>\n",
       "    </tr>\n",
       "  </thead>\n",
       "  <tbody>\n",
       "    <tr>\n",
       "      <th>0</th>\n",
       "      <td>Western NY</td>\n",
       "      <td>Cattaraugus</td>\n",
       "      <td>401001.0</td>\n",
       "      <td>66.0</td>\n",
       "      <td>Olean General Hospital</td>\n",
       "      <td>50 to 69</td>\n",
       "      <td>147</td>\n",
       "      <td>F</td>\n",
       "      <td>White</td>\n",
       "      <td>Not Span/Hispanic</td>\n",
       "      <td>...</td>\n",
       "      <td>NaN</td>\n",
       "      <td>NaN</td>\n",
       "      <td>267162.0</td>\n",
       "      <td>NaN</td>\n",
       "      <td>NaN</td>\n",
       "      <td>0</td>\n",
       "      <td>N</td>\n",
       "      <td>Y</td>\n",
       "      <td>5620.00</td>\n",
       "      <td>4561.28</td>\n",
       "    </tr>\n",
       "    <tr>\n",
       "      <th>1</th>\n",
       "      <td>Western NY</td>\n",
       "      <td>Cattaraugus</td>\n",
       "      <td>401001.0</td>\n",
       "      <td>66.0</td>\n",
       "      <td>Olean General Hospital</td>\n",
       "      <td>18 to 29</td>\n",
       "      <td>147</td>\n",
       "      <td>F</td>\n",
       "      <td>White</td>\n",
       "      <td>Not Span/Hispanic</td>\n",
       "      <td>...</td>\n",
       "      <td>NaN</td>\n",
       "      <td>NaN</td>\n",
       "      <td>275408.0</td>\n",
       "      <td>NaN</td>\n",
       "      <td>NaN</td>\n",
       "      <td>0</td>\n",
       "      <td>N</td>\n",
       "      <td>Y</td>\n",
       "      <td>7404.18</td>\n",
       "      <td>6933.94</td>\n",
       "    </tr>\n",
       "    <tr>\n",
       "      <th>2</th>\n",
       "      <td>Western NY</td>\n",
       "      <td>Cattaraugus</td>\n",
       "      <td>401001.0</td>\n",
       "      <td>66.0</td>\n",
       "      <td>Olean General Hospital</td>\n",
       "      <td>30 to 49</td>\n",
       "      <td>147</td>\n",
       "      <td>M</td>\n",
       "      <td>White</td>\n",
       "      <td>Not Span/Hispanic</td>\n",
       "      <td>...</td>\n",
       "      <td>NaN</td>\n",
       "      <td>NaN</td>\n",
       "      <td>267162.0</td>\n",
       "      <td>NaN</td>\n",
       "      <td>NaN</td>\n",
       "      <td>0</td>\n",
       "      <td>N</td>\n",
       "      <td>Y</td>\n",
       "      <td>7931.28</td>\n",
       "      <td>7154.85</td>\n",
       "    </tr>\n",
       "    <tr>\n",
       "      <th>3</th>\n",
       "      <td>Western NY</td>\n",
       "      <td>Cattaraugus</td>\n",
       "      <td>401001.0</td>\n",
       "      <td>66.0</td>\n",
       "      <td>Olean General Hospital</td>\n",
       "      <td>50 to 69</td>\n",
       "      <td>147</td>\n",
       "      <td>F</td>\n",
       "      <td>White</td>\n",
       "      <td>Not Span/Hispanic</td>\n",
       "      <td>...</td>\n",
       "      <td>NaN</td>\n",
       "      <td>NaN</td>\n",
       "      <td>271326.0</td>\n",
       "      <td>NaN</td>\n",
       "      <td>NaN</td>\n",
       "      <td>0</td>\n",
       "      <td>N</td>\n",
       "      <td>Y</td>\n",
       "      <td>11304.44</td>\n",
       "      <td>4584.11</td>\n",
       "    </tr>\n",
       "    <tr>\n",
       "      <th>4</th>\n",
       "      <td>Western NY</td>\n",
       "      <td>Chautauqua</td>\n",
       "      <td>602001.0</td>\n",
       "      <td>103.0</td>\n",
       "      <td>Woman's Christian Association</td>\n",
       "      <td>50 to 69</td>\n",
       "      <td>147</td>\n",
       "      <td>M</td>\n",
       "      <td>White</td>\n",
       "      <td>Not Span/Hispanic</td>\n",
       "      <td>...</td>\n",
       "      <td>NaN</td>\n",
       "      <td>NaN</td>\n",
       "      <td>243034.0</td>\n",
       "      <td>NaN</td>\n",
       "      <td>NaN</td>\n",
       "      <td>0</td>\n",
       "      <td>N</td>\n",
       "      <td>Y</td>\n",
       "      <td>8330.50</td>\n",
       "      <td>4361.74</td>\n",
       "    </tr>\n",
       "  </tbody>\n",
       "</table>\n",
       "<p>5 rows × 37 columns</p>\n",
       "</div>"
      ],
      "text/plain": [
       "  Health_Service_Area Hospital_County  Operating_Certificate_Number  \\\n",
       "0          Western NY     Cattaraugus                      401001.0   \n",
       "1          Western NY     Cattaraugus                      401001.0   \n",
       "2          Western NY     Cattaraugus                      401001.0   \n",
       "3          Western NY     Cattaraugus                      401001.0   \n",
       "4          Western NY      Chautauqua                      602001.0   \n",
       "\n",
       "   Facility_Id                  Facility_Name Age_Group Zip_Code_-_3_digits  \\\n",
       "0         66.0         Olean General Hospital  50 to 69                 147   \n",
       "1         66.0         Olean General Hospital  18 to 29                 147   \n",
       "2         66.0         Olean General Hospital  30 to 49                 147   \n",
       "3         66.0         Olean General Hospital  50 to 69                 147   \n",
       "4        103.0  Woman's Christian Association  50 to 69                 147   \n",
       "\n",
       "  Gender   Race          Ethnicity  ...  Payment_Typology_2  \\\n",
       "0      F  White  Not Span/Hispanic  ...                 NaN   \n",
       "1      F  White  Not Span/Hispanic  ...                 NaN   \n",
       "2      M  White  Not Span/Hispanic  ...                 NaN   \n",
       "3      F  White  Not Span/Hispanic  ...                 NaN   \n",
       "4      M  White  Not Span/Hispanic  ...                 NaN   \n",
       "\n",
       "  Payment_Typology_3 Attending_Provider_License_Number  \\\n",
       "0                NaN                          267162.0   \n",
       "1                NaN                          275408.0   \n",
       "2                NaN                          267162.0   \n",
       "3                NaN                          271326.0   \n",
       "4                NaN                          243034.0   \n",
       "\n",
       "   Operating_Provider_License_Number  Other_Provider_License_Number  \\\n",
       "0                                NaN                            NaN   \n",
       "1                                NaN                            NaN   \n",
       "2                                NaN                            NaN   \n",
       "3                                NaN                            NaN   \n",
       "4                                NaN                            NaN   \n",
       "\n",
       "  Birth_Weight  Abortion_Edit_Indicator Emergency_Department_Indicator  \\\n",
       "0            0                        N                              Y   \n",
       "1            0                        N                              Y   \n",
       "2            0                        N                              Y   \n",
       "3            0                        N                              Y   \n",
       "4            0                        N                              Y   \n",
       "\n",
       "   Total_Charges Total_Costs  \n",
       "0        5620.00     4561.28  \n",
       "1        7404.18     6933.94  \n",
       "2        7931.28     7154.85  \n",
       "3       11304.44     4584.11  \n",
       "4        8330.50     4361.74  \n",
       "\n",
       "[5 rows x 37 columns]"
      ]
     },
     "execution_count": 61,
     "metadata": {},
     "output_type": "execute_result"
    }
   ],
   "source": [
    "data[data_newborns].head()"
   ]
  },
  {
   "cell_type": "code",
   "execution_count": 66,
   "metadata": {},
   "outputs": [
    {
     "data": {
      "text/plain": [
       "2346760"
      ]
     },
     "execution_count": 66,
     "metadata": {},
     "output_type": "execute_result"
    }
   ],
   "source": [
    "len(data[data['Type_of_Admission']=='Newborn'])"
   ]
  },
  {
   "cell_type": "code",
   "execution_count": 67,
   "metadata": {},
   "outputs": [
    {
     "data": {
      "text/plain": [
       "2346760"
      ]
     },
     "execution_count": 67,
     "metadata": {},
     "output_type": "execute_result"
    }
   ],
   "source": [
    "len(data)"
   ]
  },
  {
   "cell_type": "code",
   "execution_count": 70,
   "metadata": {},
   "outputs": [
    {
     "data": {
      "text/plain": [
       "Minor       1389588\n",
       "Moderate     500069\n",
       "Major        335242\n",
       "Extreme      121749\n",
       "NaN             112\n",
       "Name: APR_Risk_of_Mortality, dtype: int64"
      ]
     },
     "execution_count": 70,
     "metadata": {},
     "output_type": "execute_result"
    }
   ],
   "source": [
    "# Grouping of risk of mortality values\n",
    "\n",
    "data.APR_Risk_of_Mortality.value_counts(dropna=False)"
   ]
  },
  {
   "cell_type": "code",
   "execution_count": null,
   "metadata": {},
   "outputs": [],
   "source": []
  }
 ],
 "metadata": {
  "kernelspec": {
   "display_name": "Python 3",
   "language": "python",
   "name": "python3"
  },
  "language_info": {
   "codemirror_mode": {
    "name": "ipython",
    "version": 3
   },
   "file_extension": ".py",
   "mimetype": "text/x-python",
   "name": "python",
   "nbconvert_exporter": "python",
   "pygments_lexer": "ipython3",
   "version": "3.7.3"
  }
 },
 "nbformat": 4,
 "nbformat_minor": 2
}
